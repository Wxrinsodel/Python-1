{
  "cells": [
    {
      "cell_type": "markdown",
      "metadata": {
        "id": "view-in-github",
        "colab_type": "text"
      },
      "source": [
        "<a href=\"https://colab.research.google.com/github/Wxrinsodel/Python-1/blob/main/Supawadee_Apichon_Python2_HSUTCC_Session1.ipynb\" target=\"_parent\"><img src=\"https://colab.research.google.com/assets/colab-badge.svg\" alt=\"Open In Colab\"/></a>"
      ]
    },
    {
      "cell_type": "markdown",
      "metadata": {
        "id": "Tx2ud4J5TsWm"
      },
      "source": [
        "# Python 2 HSUTCC: List and functions\n"
      ]
    },
    {
      "cell_type": "markdown",
      "metadata": {
        "id": "lcShWKLVQwCs"
      },
      "source": [
        "## List Comprehension\n",
        "List can be constructed in different ways, it can be constructed manually, using loops, or lastly list comprehension. Here is the way to construct using the last method."
      ]
    },
    {
      "cell_type": "code",
      "source": [
        "l = []\n",
        "l = [1, 2, 3]\n",
        "\n",
        "my_list = []\n",
        "for i in range(10):\n",
        "    my_list.append(i)\n",
        "\n",
        "my_list"
      ],
      "metadata": {
        "colab": {
          "base_uri": "https://localhost:8080/"
        },
        "id": "jc2ETMSVwghu",
        "outputId": "8c06ba19-203b-4606-8f84-996ce9bd3450"
      },
      "execution_count": null,
      "outputs": [
        {
          "output_type": "execute_result",
          "data": {
            "text/plain": [
              "[0, 1, 2, 3, 4, 5, 6, 7, 8, 9]"
            ]
          },
          "metadata": {},
          "execution_count": 1
        }
      ]
    },
    {
      "cell_type": "markdown",
      "metadata": {
        "id": "5UMkiqnmUVUO"
      },
      "source": [
        "### Without conditional"
      ]
    },
    {
      "cell_type": "code",
      "execution_count": null,
      "metadata": {
        "id": "C3eXDChHP4Ls"
      },
      "outputs": [],
      "source": [
        "# ten zeroes\n",
        "zeroes = [0, 0, 0, 0, 0, 0, 0, 0, 0, 0]"
      ]
    },
    {
      "cell_type": "code",
      "execution_count": null,
      "metadata": {
        "id": "IT6ltjb4UaWf",
        "colab": {
          "base_uri": "https://localhost:8080/"
        },
        "outputId": "f95788c4-d2d0-4eff-e683-d71cda604522"
      },
      "outputs": [
        {
          "output_type": "execute_result",
          "data": {
            "text/plain": [
              "[0, 0, 0, 0, 0, 0, 0, 0, 0, 0]"
            ]
          },
          "metadata": {},
          "execution_count": 2
        }
      ],
      "source": [
        "zeroes = []\n",
        "for i in range(10):\n",
        "\tzeroes.append(0)\n",
        "\n",
        "zeroes"
      ]
    },
    {
      "cell_type": "code",
      "execution_count": null,
      "metadata": {
        "id": "7EUL0oxzUhY-",
        "colab": {
          "base_uri": "https://localhost:8080/"
        },
        "outputId": "e1aa9c5d-2444-43cc-c9a9-7908d35c296d"
      },
      "outputs": [
        {
          "output_type": "execute_result",
          "data": {
            "text/plain": [
              "[0, 0]"
            ]
          },
          "metadata": {},
          "execution_count": 9
        }
      ],
      "source": [
        "zeroes = [0 for _ in range(2)]\n",
        "zeroes"
      ]
    },
    {
      "cell_type": "markdown",
      "metadata": {
        "id": "2lQicDoIUiaL"
      },
      "source": [
        "All of above are the way to construct list of zeroes"
      ]
    },
    {
      "cell_type": "code",
      "execution_count": null,
      "metadata": {
        "id": "QuqMpiwmUboV",
        "colab": {
          "base_uri": "https://localhost:8080/"
        },
        "outputId": "00647dae-7138-40c1-8880-f5382a66342f"
      },
      "outputs": [
        {
          "output_type": "execute_result",
          "data": {
            "text/plain": [
              "([0, 1, 2, 3, 4], [1, 4, 9, 16, 25, 36, 49, 64, 81, 100, 0])"
            ]
          },
          "metadata": {},
          "execution_count": 12
        }
      ],
      "source": [
        "numbers = [i for i in range(5)]\n",
        "square_one_to_ten = [i ** 2 for i in range(1, 11)]\n",
        "\n",
        "numbers, square_one_to_ten"
      ]
    },
    {
      "cell_type": "markdown",
      "metadata": {
        "id": "OnqLNSIBUpSC"
      },
      "source": [
        "### With conditional if"
      ]
    },
    {
      "cell_type": "code",
      "execution_count": null,
      "metadata": {
        "id": "kivLbQLNU2IQ",
        "colab": {
          "base_uri": "https://localhost:8080/"
        },
        "outputId": "cb57642f-64ca-4c62-8f67-4eca89779d3e"
      },
      "outputs": [
        {
          "output_type": "execute_result",
          "data": {
            "text/plain": [
              "[2, 4, 6]"
            ]
          },
          "metadata": {},
          "execution_count": 13
        }
      ],
      "source": [
        "numbers = [1, 2, 3, 4, 5, 6]\n",
        "even_nums = []\n",
        "\n",
        "for n in numbers:\n",
        "\tif n % 2 == 0:\n",
        "\t\teven_nums.append(n)\n",
        "\n",
        "even_nums"
      ]
    },
    {
      "cell_type": "code",
      "execution_count": null,
      "metadata": {
        "id": "qNOrCJZ7U4Gf",
        "colab": {
          "base_uri": "https://localhost:8080/"
        },
        "outputId": "403e08d2-fdcf-4b37-e602-e6e60b98f008"
      },
      "outputs": [
        {
          "output_type": "execute_result",
          "data": {
            "text/plain": [
              "[2, 4, 6]"
            ]
          },
          "metadata": {},
          "execution_count": 16
        }
      ],
      "source": [
        "# With list comprehension\n",
        "even_nums = [n for n in numbers if n % 2 == 0]\n",
        "even_nums"
      ]
    },
    {
      "cell_type": "code",
      "execution_count": null,
      "metadata": {
        "id": "26YSo6KcU675",
        "colab": {
          "base_uri": "https://localhost:8080/"
        },
        "outputId": "38791945-a10d-4437-d885-af0f38ad65d1"
      },
      "outputs": [
        {
          "output_type": "execute_result",
          "data": {
            "text/plain": [
              "[0, 7, 14, 21, 28, 35, 42, 49, 56, 63, 70, 77, 84, 91, 98]"
            ]
          },
          "metadata": {},
          "execution_count": 17
        }
      ],
      "source": [
        "multiple_of_7 = [n for n in range(100) if n % 7 == 0]\n",
        "multiple_of_7"
      ]
    },
    {
      "cell_type": "code",
      "source": [
        "l = [0 for _ in range(10000)]\n",
        "l = [0] * 10000\n",
        "\n",
        "l = []\n",
        "for _ in range(10000):\n",
        "    l.append(0)"
      ],
      "metadata": {
        "id": "GCA89-COzP_U"
      },
      "execution_count": null,
      "outputs": []
    },
    {
      "cell_type": "markdown",
      "metadata": {
        "id": "pitVTf_lVJic"
      },
      "source": [
        "### Syntax\n",
        "\n",
        "\n",
        "```python\n",
        "without_condition = [expression for item in iterable]\n",
        "with_condition_if = [expression for item in iterable if condition == True]\n",
        "with_condition_ifelse = [expression1 if True else expression2 for item in iterable]\n",
        "```\n",
        "\n"
      ]
    },
    {
      "cell_type": "markdown",
      "metadata": {
        "id": "s4Fa_mfkVfuK"
      },
      "source": [
        "What should be the output of this program?"
      ]
    },
    {
      "cell_type": "code",
      "execution_count": null,
      "metadata": {
        "id": "2PxHStCCVels",
        "colab": {
          "base_uri": "https://localhost:8080/"
        },
        "outputId": "8ff3e452-e89e-40aa-b2e0-e4e6009b9e7d"
      },
      "outputs": [
        {
          "output_type": "execute_result",
          "data": {
            "text/plain": [
              "['even', 'odd', 'even', 'odd', 'even']"
            ]
          },
          "metadata": {},
          "execution_count": 18
        }
      ],
      "source": [
        "numbers = ['even' if n % 2 == 0 else 'odd' for n in range(5)]\n",
        "numbers"
      ]
    },
    {
      "cell_type": "code",
      "source": [
        "numbers = []\n",
        "for n in range(5):\n",
        "    if n % 2 == 0:\n",
        "        numbers.append('even')\n",
        "    else:\n",
        "        numbers.append('odd')\n",
        "numbers"
      ],
      "metadata": {
        "colab": {
          "base_uri": "https://localhost:8080/"
        },
        "id": "pgAxP4071I7P",
        "outputId": "29e7eb42-396f-416a-bfb1-1ded5edf3526"
      },
      "execution_count": null,
      "outputs": [
        {
          "output_type": "execute_result",
          "data": {
            "text/plain": [
              "['even', 'odd', 'even', 'odd', 'even']"
            ]
          },
          "metadata": {},
          "execution_count": 20
        }
      ]
    },
    {
      "cell_type": "markdown",
      "metadata": {
        "id": "qyOA4qqCQ1KQ"
      },
      "source": [
        "# Function Structure Recap"
      ]
    },
    {
      "cell_type": "markdown",
      "metadata": {
        "id": "hE9wG7EaWCX9"
      },
      "source": [
        "1 output"
      ]
    },
    {
      "cell_type": "code",
      "execution_count": null,
      "metadata": {
        "id": "dbV_FkjdV8Nt",
        "colab": {
          "base_uri": "https://localhost:8080/"
        },
        "outputId": "03eb081c-735a-403d-ce86-9697bd0b7002"
      },
      "outputs": [
        {
          "output_type": "execute_result",
          "data": {
            "text/plain": [
              "16"
            ]
          },
          "metadata": {},
          "execution_count": 23
        }
      ],
      "source": [
        "def square(x: int) -> int:\n",
        "    return x ** 2\n",
        "\n",
        "square(4)"
      ]
    },
    {
      "cell_type": "markdown",
      "metadata": {
        "id": "Xkvx7oOUWOOW"
      },
      "source": [
        "no output"
      ]
    },
    {
      "cell_type": "code",
      "execution_count": null,
      "metadata": {
        "id": "Z5z-lOuVWRbm",
        "colab": {
          "base_uri": "https://localhost:8080/"
        },
        "outputId": "fd64c70c-7a23-49ca-d916-0787f6e644b9"
      },
      "outputs": [
        {
          "output_type": "stream",
          "name": "stdout",
          "text": [
            "None\n"
          ]
        }
      ],
      "source": [
        "def square(x: int) -> int:\n",
        "    result = x ** 2\n",
        "\n",
        "print(square(4))"
      ]
    },
    {
      "cell_type": "code",
      "execution_count": null,
      "metadata": {
        "id": "uBr7iNY8Vt_Q",
        "colab": {
          "base_uri": "https://localhost:8080/"
        },
        "outputId": "ef6736fe-15fe-4acf-ee13-49c46ca6440b"
      },
      "outputs": [
        {
          "output_type": "stream",
          "name": "stdout",
          "text": [
            "Hi! Pop\n",
            "None\n"
          ]
        }
      ],
      "source": [
        "def greet_person(name: str, greeting: str) -> str:\n",
        "  print(greeting, name)\n",
        "\n",
        "print(greet_person('Pop', 'Hi!'))"
      ]
    },
    {
      "cell_type": "markdown",
      "metadata": {
        "id": "SSpGEbBRWP9f"
      },
      "source": [
        "multiple outputs"
      ]
    },
    {
      "cell_type": "code",
      "execution_count": null,
      "metadata": {
        "id": "fJqHhDVvWbGL",
        "colab": {
          "base_uri": "https://localhost:8080/"
        },
        "outputId": "b72aecbc-303e-436f-fd2b-89689df55e27"
      },
      "outputs": [
        {
          "output_type": "execute_result",
          "data": {
            "text/plain": [
              "('D', 'r', 'a')"
            ]
          },
          "metadata": {},
          "execution_count": 27
        }
      ],
      "source": [
        "def get_three_chars(name: str) -> tuple:\n",
        "    return name[0], name[1], name[2]\n",
        "\n",
        "get_three_chars('Drake')"
      ]
    },
    {
      "cell_type": "markdown",
      "metadata": {
        "id": "jMkqOvjeW5-c"
      },
      "source": [
        "default argument"
      ]
    },
    {
      "cell_type": "code",
      "execution_count": null,
      "metadata": {
        "id": "7j4KwNX-Vzpa",
        "colab": {
          "base_uri": "https://localhost:8080/"
        },
        "outputId": "439e867f-0758-4698-97a7-e9d6da5a7fe7"
      },
      "outputs": [
        {
          "output_type": "stream",
          "name": "stdout",
          "text": [
            "HEY! Pop\n"
          ]
        }
      ],
      "source": [
        "def greet_person(name, greeting = 'Hi!'):\n",
        "  print(greeting, name)\n",
        "\n",
        "greet_person('Pop', 'HEY!')"
      ]
    },
    {
      "cell_type": "markdown",
      "metadata": {
        "id": "mINX3iA3ZMIj"
      },
      "source": [
        "keyword args cannnot be before positional args"
      ]
    },
    {
      "cell_type": "code",
      "execution_count": null,
      "metadata": {
        "id": "Z9TbRoJuZE6l",
        "colab": {
          "base_uri": "https://localhost:8080/",
          "height": 107
        },
        "outputId": "a54e4637-bc8e-4a6c-eb77-cf86db7f4b58"
      },
      "outputs": [
        {
          "output_type": "error",
          "ename": "SyntaxError",
          "evalue": "non-default argument follows default argument (<ipython-input-31-62393963de48>, line 1)",
          "traceback": [
            "\u001b[0;36m  File \u001b[0;32m\"<ipython-input-31-62393963de48>\"\u001b[0;36m, line \u001b[0;32m1\u001b[0m\n\u001b[0;31m    def f(a, b, c=4, d, e):\u001b[0m\n\u001b[0m                     ^\u001b[0m\n\u001b[0;31mSyntaxError\u001b[0m\u001b[0;31m:\u001b[0m non-default argument follows default argument\n"
          ]
        }
      ],
      "source": [
        "def f(a, b, c=4, d, e):\n",
        "    return a+b+c+d\n",
        "\n",
        "f(1, 2, 3, 4)"
      ]
    },
    {
      "cell_type": "markdown",
      "metadata": {
        "id": "ucjIdcDoXAwd"
      },
      "source": [
        "\\*args, **kwargs"
      ]
    },
    {
      "cell_type": "code",
      "execution_count": null,
      "metadata": {
        "id": "SYdfO1EUV4mW",
        "colab": {
          "base_uri": "https://localhost:8080/"
        },
        "outputId": "72f59b14-71b9-43e8-db2d-056ab46eec17"
      },
      "outputs": [
        {
          "output_type": "stream",
          "name": "stdout",
          "text": [
            "() {}\n"
          ]
        }
      ],
      "source": [
        "def greet_person(name, age = 10, *args, **kwargs):\n",
        "  print(args, kwargs)\n",
        "\n",
        "greet_person('Pop')"
      ]
    },
    {
      "cell_type": "code",
      "execution_count": null,
      "metadata": {
        "id": "CxywLnlNV7kg",
        "colab": {
          "base_uri": "https://localhost:8080/"
        },
        "outputId": "8fd2dd9a-6834-47aa-d721-ebbc2bb53195"
      },
      "outputs": [
        {
          "output_type": "stream",
          "name": "stdout",
          "text": [
            "{'first': 42, 'second': 12, 'third': False, 'name': 'Pop'}\n",
            "(5, 4, 6)\n"
          ]
        }
      ],
      "source": [
        "name2 = 5\n",
        "name3 = 4\n",
        "name6 = 6\n",
        "def my_print(*args, **kwargs):\n",
        "  print(kwargs)\n",
        "  print(args)\n",
        "\n",
        "my_print(name2, name3, name6, first=42, second=12, third=False, name='Pop')"
      ]
    },
    {
      "cell_type": "code",
      "source": [
        "def f(a, b, c=10):\n",
        "    pass\n",
        "\n",
        "f(5, b=11, c=4)"
      ],
      "metadata": {
        "id": "rs6CLvth4uZ8"
      },
      "execution_count": null,
      "outputs": []
    },
    {
      "cell_type": "markdown",
      "metadata": {
        "id": "eKzOEFmcXXGy"
      },
      "source": [
        "# Recursive Function"
      ]
    },
    {
      "cell_type": "code",
      "execution_count": null,
      "metadata": {
        "collapsed": true,
        "id": "QitO_x9pXihT"
      },
      "outputs": [],
      "source": [
        "# !!! Beware of crashing !!!\n",
        "def f(x):\n",
        "    if x > 100:\n",
        "        return 0\n",
        "    x += 1\n",
        "    print(x)\n",
        "    return f(x)\n",
        "\n",
        "f(0)"
      ]
    },
    {
      "cell_type": "code",
      "execution_count": null,
      "metadata": {
        "colab": {
          "base_uri": "https://localhost:8080/"
        },
        "id": "WbLxM54zYO2K",
        "outputId": "330958fb-d161-4d8c-90b2-3737febe2cbc"
      },
      "outputs": [
        {
          "output_type": "execute_result",
          "data": {
            "text/plain": [
              "3628800"
            ]
          },
          "metadata": {},
          "execution_count": 3
        }
      ],
      "source": [
        "# 5! = 5 x 4 x 3 x 2 x 1\n",
        "def factorial(x):\n",
        "    if x == 1:\n",
        "        return 1\n",
        "    return x * factorial(x-1)\n",
        "\n",
        "factorial(10)"
      ]
    },
    {
      "cell_type": "code",
      "execution_count": null,
      "metadata": {
        "colab": {
          "base_uri": "https://localhost:8080/"
        },
        "id": "t-wgrdggaOz7",
        "outputId": "34f51fd4-da40-4fef-ec01-02a4ec652ac7"
      },
      "outputs": [
        {
          "output_type": "stream",
          "name": "stdout",
          "text": [
            "244 µs ± 8.41 µs per loop (mean ± std. dev. of 7 runs, 1000 loops each)\n"
          ]
        }
      ],
      "source": [
        "%%timeit\n",
        "import time\n",
        "\n",
        "factorial(500)\n",
        "# t1 = time.time()\n",
        "# result = factorial(6)\n",
        "# t2 = time.time()\n",
        "# print('Time usage for factorial 6: ', t2-t1)\n",
        "# result = factorial(501)\n",
        "# t3 = time.time()\n",
        "# print('Time usage for factorial 500: ', t3-t2)"
      ]
    },
    {
      "cell_type": "code",
      "source": [
        "time.time()"
      ],
      "metadata": {
        "colab": {
          "base_uri": "https://localhost:8080/"
        },
        "id": "xCQHuKe3_fiO",
        "outputId": "5e973c8e-4422-48fd-fde2-04f16e7ab061"
      },
      "execution_count": null,
      "outputs": [
        {
          "output_type": "execute_result",
          "data": {
            "text/plain": [
              "1729495961.1515784"
            ]
          },
          "metadata": {},
          "execution_count": 11
        }
      ]
    },
    {
      "cell_type": "markdown",
      "metadata": {
        "id": "0hYl1TfJbOjw"
      },
      "source": [
        "# Anonymous Function"
      ]
    },
    {
      "cell_type": "markdown",
      "metadata": {
        "id": "ycOu4QoBbSu6"
      },
      "source": [
        "Syntax\n",
        "\n",
        "\n",
        "```python\n",
        "lambda args: return_expression\n",
        "```\n",
        "\n"
      ]
    },
    {
      "cell_type": "code",
      "execution_count": null,
      "metadata": {
        "id": "Fu8MID1UbQEh",
        "colab": {
          "base_uri": "https://localhost:8080/"
        },
        "outputId": "8967b554-60bb-428f-da46-bed32b37c883"
      },
      "outputs": [
        {
          "output_type": "execute_result",
          "data": {
            "text/plain": [
              "16"
            ]
          },
          "metadata": {},
          "execution_count": 13
        }
      ],
      "source": [
        "f = lambda x: x ** 2\n",
        "f(2)"
      ]
    },
    {
      "cell_type": "code",
      "source": [
        "def square(x):\n",
        "    return x ** 2"
      ],
      "metadata": {
        "id": "MlFIgM2HA9fY"
      },
      "execution_count": null,
      "outputs": []
    },
    {
      "cell_type": "code",
      "execution_count": null,
      "metadata": {
        "id": "SQHzRqm8beb0",
        "colab": {
          "base_uri": "https://localhost:8080/"
        },
        "outputId": "e9e9cf7d-294b-47b9-fbb1-78d4768167ce"
      },
      "outputs": [
        {
          "output_type": "execute_result",
          "data": {
            "text/plain": [
              "20"
            ]
          },
          "metadata": {},
          "execution_count": 14
        }
      ],
      "source": [
        "f = lambda x,y: x * y\n",
        "f(4, 5)"
      ]
    },
    {
      "cell_type": "code",
      "execution_count": null,
      "metadata": {
        "id": "0wX95R1LbjsZ"
      },
      "outputs": [],
      "source": [
        "f1 = lambda x: x ** 2 # OK\n",
        "f2 = lambda x: x[0] # OK\n",
        "# f3 = lambda x: x += 1  # Bad\n",
        "f4 = lambda x: x % 2 == 0 # OK\n",
        "f5 = lambda x: x % 2 # OK\n",
        "f6 = lambda x : x.append(1)"
      ]
    },
    {
      "cell_type": "code",
      "source": [
        "print(f6([2, 3]))"
      ],
      "metadata": {
        "colab": {
          "base_uri": "https://localhost:8080/"
        },
        "id": "bYKvqWuBCMHH",
        "outputId": "46eb0b56-32ab-4a1d-a59b-c1a19989fea8"
      },
      "execution_count": null,
      "outputs": [
        {
          "output_type": "stream",
          "name": "stdout",
          "text": [
            "None\n"
          ]
        }
      ]
    },
    {
      "cell_type": "markdown",
      "metadata": {
        "id": "eFBznmBKbsrY"
      },
      "source": [
        "Benefits using with map()\n",
        "Syntax of map()\n",
        "\n",
        "\n",
        "```python\n",
        "map(function, iterable)\n",
        "```\n",
        "Note that iterable is an object that can be iterated (loop over)\n"
      ]
    },
    {
      "cell_type": "markdown",
      "metadata": {
        "id": "5JJ1Q1REb_Yo"
      },
      "source": [
        "Using map with traditional function"
      ]
    },
    {
      "cell_type": "code",
      "execution_count": null,
      "metadata": {
        "colab": {
          "base_uri": "https://localhost:8080/"
        },
        "id": "F5qzLNmKbvUS",
        "outputId": "d61833c4-0a68-458d-fafd-c352357c35f5"
      },
      "outputs": [
        {
          "output_type": "execute_result",
          "data": {
            "text/plain": [
              "(<map at 0x7a7a9a18b8b0>, [1, 4, 9, 16])"
            ]
          },
          "metadata": {},
          "execution_count": 21
        }
      ],
      "source": [
        "my_list = [1, 2, 3, 4]\n",
        "def squared(i):\n",
        "\treturn i ** 2\n",
        "\n",
        "\n",
        "result1 = map(squared, my_list)\n",
        "result2 = list(map(squared, my_list))\n",
        "result1, result2"
      ]
    },
    {
      "cell_type": "code",
      "source": [
        "my_list = [1, 2, 3, 4]\n",
        "result3 = list(map(lambda x: x ** 2, my_list))\n",
        "result3"
      ],
      "metadata": {
        "colab": {
          "base_uri": "https://localhost:8080/"
        },
        "id": "7Ej37mnBDQrU",
        "outputId": "75dbf469-e02c-4ecb-93e5-91766322acf6"
      },
      "execution_count": null,
      "outputs": [
        {
          "output_type": "execute_result",
          "data": {
            "text/plain": [
              "[1, 4, 9, 16]"
            ]
          },
          "metadata": {},
          "execution_count": 22
        }
      ]
    },
    {
      "cell_type": "code",
      "execution_count": null,
      "metadata": {
        "colab": {
          "base_uri": "https://localhost:8080/"
        },
        "id": "zb_MTwwJcI8W",
        "outputId": "f24f8d0e-58a4-49ef-c66b-e08f1c550857"
      },
      "outputs": [
        {
          "output_type": "execute_result",
          "data": {
            "text/plain": [
              "([1.0, 2.0, 3.0, 1.0], [1, 2, 3, 1], [1, 2, 3, 1])"
            ]
          },
          "metadata": {},
          "execution_count": 25
        }
      ],
      "source": [
        "import math\n",
        "\n",
        "my_list = [1.2, 2.3, math.pi, 4/3]\n",
        "\n",
        "def convert_to_int(i):\n",
        "\t return i//1\n",
        "\n",
        "result1 = list(map(convert_to_int, my_list)) # Similar to\n",
        "result2 = list(map(int, my_list))\n",
        "result3 = list(map(lambda x: x//1, my_list))\n",
        "\n",
        "result1, result2, result3"
      ]
    },
    {
      "cell_type": "code",
      "execution_count": null,
      "metadata": {
        "colab": {
          "base_uri": "https://localhost:8080/"
        },
        "id": "bb61qg5ecPw4",
        "outputId": "5c67752b-c243-4f77-9584-c7030880b270"
      },
      "outputs": [
        {
          "output_type": "execute_result",
          "data": {
            "text/plain": [
              "[1, 2, 3, 1]"
            ]
          },
          "metadata": {},
          "execution_count": 26
        }
      ],
      "source": [
        "import math\n",
        "\n",
        "my_list = [1.2, 2.3, math.pi, 4/3]\n",
        "result = list(map(math.floor, my_list))\n",
        "\n",
        "result"
      ]
    },
    {
      "cell_type": "markdown",
      "metadata": {
        "id": "ru50vLZlcjYH"
      },
      "source": [
        "using map with lambda is more computational efficient!"
      ]
    },
    {
      "cell_type": "code",
      "execution_count": null,
      "metadata": {
        "colab": {
          "base_uri": "https://localhost:8080/"
        },
        "id": "ZWdvYLyzceH1",
        "outputId": "221a1c59-5712-44dd-fa58-421dcc1606dd"
      },
      "outputs": [
        {
          "output_type": "execute_result",
          "data": {
            "text/plain": [
              "[1, 4, 9, 16]"
            ]
          },
          "metadata": {},
          "execution_count": 27
        }
      ],
      "source": [
        "my_list = [1, 2, 3, 4]\n",
        "result = list(map(lambda x: x ** 2, my_list))\n",
        "result"
      ]
    },
    {
      "cell_type": "code",
      "execution_count": null,
      "metadata": {
        "colab": {
          "base_uri": "https://localhost:8080/"
        },
        "id": "EG6JduVHco3B",
        "outputId": "df9979c3-c408-418c-fe5a-5041a4bcdc79"
      },
      "outputs": [
        {
          "data": {
            "text/plain": [
              "[1.0, 2.0, 3.0, 1.0]"
            ]
          },
          "execution_count": 17,
          "metadata": {},
          "output_type": "execute_result"
        }
      ],
      "source": [
        "import math\n",
        "\n",
        "my_list = [1.2, 2.3, math.pi, 4/3]\n",
        "\n",
        "result = list(map(lambda x: x//1, my_list))\n",
        "result"
      ]
    },
    {
      "cell_type": "markdown",
      "metadata": {
        "id": "4rdZ8VrjP8Mw"
      },
      "source": [
        "# Global and Local Scope"
      ]
    },
    {
      "cell_type": "markdown",
      "metadata": {
        "id": "do7IWWQmQIPr"
      },
      "source": [
        "We call every things outside the function declaration,\n",
        "a global scope and every things inside, local scope."
      ]
    },
    {
      "cell_type": "code",
      "execution_count": null,
      "metadata": {
        "id": "KZmlfcWeP_dz"
      },
      "outputs": [],
      "source": [
        "very_important_number = 21"
      ]
    },
    {
      "cell_type": "code",
      "execution_count": null,
      "metadata": {
        "id": "hfPdczGtQULK",
        "colab": {
          "base_uri": "https://localhost:8080/"
        },
        "outputId": "c99b79bc-9eb6-4572-f7e8-0300d7fc6a33"
      },
      "outputs": [
        {
          "output_type": "stream",
          "name": "stdout",
          "text": [
            "21\n"
          ]
        }
      ],
      "source": [
        "def print_that_number():\n",
        "\tprint(very_important_number)\n",
        "\n",
        "print_that_number()"
      ]
    },
    {
      "cell_type": "code",
      "execution_count": null,
      "metadata": {
        "id": "-JNsyqZ3QY17",
        "colab": {
          "base_uri": "https://localhost:8080/"
        },
        "outputId": "b25e6537-c876-4d30-88b3-d9dd2dc9a35b"
      },
      "outputs": [
        {
          "output_type": "stream",
          "name": "stdout",
          "text": [
            "3\n"
          ]
        }
      ],
      "source": [
        "def print_my_own_value():\n",
        "\tvery_important_number = 3\n",
        "\tprint(very_important_number)\n",
        "\n",
        "print_my_own_value()"
      ]
    },
    {
      "cell_type": "markdown",
      "metadata": {
        "id": "4kx_ZZqIqJgK"
      },
      "source": [
        "What happen to our ```very_important_number``` variable?"
      ]
    },
    {
      "cell_type": "code",
      "execution_count": null,
      "metadata": {
        "id": "A97vRunGQ8-2",
        "colab": {
          "base_uri": "https://localhost:8080/"
        },
        "outputId": "fbf33844-ecec-4e24-fd2c-97feccc6230c"
      },
      "outputs": [
        {
          "output_type": "stream",
          "name": "stdout",
          "text": [
            "21\n"
          ]
        }
      ],
      "source": [
        "print(very_important_number)"
      ]
    },
    {
      "cell_type": "code",
      "execution_count": null,
      "metadata": {
        "colab": {
          "base_uri": "https://localhost:8080/"
        },
        "id": "1fIc0ozYqJgK",
        "outputId": "b0ff3168-af60-42dc-b58e-e55c33195c9b"
      },
      "outputs": [
        {
          "output_type": "stream",
          "name": "stdout",
          "text": [
            "very_important_number 21\n",
            "2\n",
            "very_important_number 2\n"
          ]
        }
      ],
      "source": [
        "def print_my_more_important_number():\n",
        "    global very_important_number\n",
        "    very_important_number = 2\n",
        "    print(very_important_number)\n",
        "\n",
        "print(\"very_important_number\", very_important_number)\n",
        "print_my_more_important_number()\n",
        "print(\"very_important_number\", very_important_number)"
      ]
    },
    {
      "cell_type": "markdown",
      "metadata": {
        "id": "TYHhEkv_qJgL"
      },
      "source": [
        "**However, using global and naming local variable to be the same\n",
        "as global variable is a bad practice to begin with.**"
      ]
    },
    {
      "cell_type": "code",
      "execution_count": null,
      "metadata": {
        "colab": {
          "base_uri": "https://localhost:8080/",
          "height": 284
        },
        "id": "aLURC_s-qJgL",
        "outputId": "bfafc5ba-6342-44a2-8ef6-4df47505c5cd"
      },
      "outputs": [
        {
          "output_type": "error",
          "ename": "UnboundLocalError",
          "evalue": "local variable 'very_important_number' referenced before assignment",
          "traceback": [
            "\u001b[0;31m---------------------------------------------------------------------------\u001b[0m",
            "\u001b[0;31mUnboundLocalError\u001b[0m                         Traceback (most recent call last)",
            "\u001b[0;32m<ipython-input-33-8e844225272d>\u001b[0m in \u001b[0;36m<cell line: 4>\u001b[0;34m()\u001b[0m\n\u001b[1;32m      2\u001b[0m     \u001b[0mvery_important_number\u001b[0m \u001b[0;34m+=\u001b[0m \u001b[0;36m3\u001b[0m\u001b[0;34m\u001b[0m\u001b[0;34m\u001b[0m\u001b[0m\n\u001b[1;32m      3\u001b[0m \u001b[0;34m\u001b[0m\u001b[0m\n\u001b[0;32m----> 4\u001b[0;31m \u001b[0mincrease_value\u001b[0m\u001b[0;34m(\u001b[0m\u001b[0;34m)\u001b[0m\u001b[0;34m\u001b[0m\u001b[0;34m\u001b[0m\u001b[0m\n\u001b[0m",
            "\u001b[0;32m<ipython-input-33-8e844225272d>\u001b[0m in \u001b[0;36mincrease_value\u001b[0;34m()\u001b[0m\n\u001b[1;32m      1\u001b[0m \u001b[0;32mdef\u001b[0m \u001b[0mincrease_value\u001b[0m\u001b[0;34m(\u001b[0m\u001b[0;34m)\u001b[0m\u001b[0;34m:\u001b[0m\u001b[0;34m\u001b[0m\u001b[0;34m\u001b[0m\u001b[0m\n\u001b[0;32m----> 2\u001b[0;31m     \u001b[0mvery_important_number\u001b[0m \u001b[0;34m+=\u001b[0m \u001b[0;36m3\u001b[0m\u001b[0;34m\u001b[0m\u001b[0;34m\u001b[0m\u001b[0m\n\u001b[0m\u001b[1;32m      3\u001b[0m \u001b[0;34m\u001b[0m\u001b[0m\n\u001b[1;32m      4\u001b[0m \u001b[0mincrease_value\u001b[0m\u001b[0;34m(\u001b[0m\u001b[0;34m)\u001b[0m\u001b[0;34m\u001b[0m\u001b[0;34m\u001b[0m\u001b[0m\n",
            "\u001b[0;31mUnboundLocalError\u001b[0m: local variable 'very_important_number' referenced before assignment"
          ]
        }
      ],
      "source": [
        "def increase_value():\n",
        "    very_important_number += 3\n",
        "\n",
        "increase_value()"
      ]
    },
    {
      "cell_type": "markdown",
      "metadata": {
        "id": "LGpsOQpIqJgL"
      },
      "source": [
        "Butttt"
      ]
    },
    {
      "cell_type": "code",
      "execution_count": null,
      "metadata": {
        "id": "yLvM_xL4qJgL"
      },
      "outputs": [],
      "source": [
        "very_important_list = [1, 2, 3]"
      ]
    },
    {
      "cell_type": "code",
      "execution_count": null,
      "metadata": {
        "colab": {
          "base_uri": "https://localhost:8080/"
        },
        "id": "jQLFv2_TqJgL",
        "outputId": "6eb4c3ff-65e6-4ea4-c9a0-f750fbb120c0"
      },
      "outputs": [
        {
          "output_type": "stream",
          "name": "stdout",
          "text": [
            "[1, 2, 3, 4]\n"
          ]
        }
      ],
      "source": [
        "def add_to_list(num):\n",
        "\tvery_important_list.append(num)\n",
        "\n",
        "add_to_list(4)\n",
        "print(very_important_list)"
      ]
    },
    {
      "cell_type": "markdown",
      "metadata": {
        "id": "yHJP8wROqJgL"
      },
      "source": [
        "Let's fix that."
      ]
    },
    {
      "cell_type": "code",
      "execution_count": null,
      "metadata": {
        "colab": {
          "base_uri": "https://localhost:8080/"
        },
        "id": "neJcaJpOqJgL",
        "outputId": "39adaa19-ccb6-44fa-8b3a-e93ca25c1f9d"
      },
      "outputs": [
        {
          "output_type": "stream",
          "name": "stdout",
          "text": [
            "[1, 2, 3, 4, 5]\n",
            "[1, 2, 3, 4]\n"
          ]
        }
      ],
      "source": [
        "def add_to_list_v2(num, target):\n",
        "    target = target.copy()\n",
        "    target.append(num)\n",
        "    return target\n",
        "\n",
        "print(add_to_list_v2(5, very_important_list))\n",
        "print(very_important_list)"
      ]
    },
    {
      "cell_type": "markdown",
      "metadata": {
        "id": "KOpUGTBvqJgL"
      },
      "source": [
        "### Sidenote: List as default argument"
      ]
    },
    {
      "cell_type": "code",
      "execution_count": null,
      "metadata": {
        "id": "xeDeqtYBqJgL"
      },
      "outputs": [],
      "source": [
        "def add_to_list_3(num, target=[]):\n",
        "    target.append(num)\n",
        "    print(target)\n",
        "\n",
        "add_to_list_3(1)\n",
        "add_to_list_3(1)\n",
        "add_to_list_3(1)\n",
        "add_to_list_3(1)\n",
        "add_to_list_3(1)\n",
        "add_to_list_3(1, [2])\n",
        "add_to_list_3(1)"
      ]
    },
    {
      "cell_type": "markdown",
      "metadata": {
        "id": "E13QFCWSqJgL"
      },
      "source": [
        "The correct way"
      ]
    },
    {
      "cell_type": "code",
      "execution_count": null,
      "metadata": {
        "id": "M8D_ZgKqqJgL"
      },
      "outputs": [],
      "source": [
        "def add_to_list_3_corrected(num, target=None):\n",
        "    target = target or []\n",
        "    target.append(num)\n",
        "    print(target)\n",
        "\n",
        "add_to_list_3_corrected(1)\n",
        "add_to_list_3_corrected(1)\n",
        "add_to_list_3_corrected(1)\n",
        "add_to_list_3_corrected(1)\n",
        "add_to_list_3_corrected(1)\n",
        "add_to_list_3_corrected(1, [2])\n",
        "add_to_list_3_corrected(1)"
      ]
    },
    {
      "cell_type": "markdown",
      "metadata": {
        "id": "Q61dleIJqJgL"
      },
      "source": [
        "### Sidenote: Namespace\n",
        "\n",
        "> Namespaces are one honking great idea -- let's do more of those!\n",
        "\n"
      ]
    },
    {
      "cell_type": "code",
      "execution_count": null,
      "metadata": {
        "id": "U8ZyMeWiqJgL"
      },
      "outputs": [],
      "source": [
        "my_var = 10\n",
        "\n",
        "def my_func():\n",
        "    my_var = 5\n",
        "    another_var = 24\n",
        "\n",
        "print(my_var)\n",
        "print(another_var)"
      ]
    },
    {
      "cell_type": "markdown",
      "metadata": {
        "id": "wCXR7Tq7qJgL"
      },
      "source": [
        "# Tasks"
      ]
    },
    {
      "cell_type": "markdown",
      "metadata": {
        "id": "m85yDPhgqJgL"
      },
      "source": [
        "1. Write a Python function to find the max of any numbers of arguments (don't use the build in function `max()`)"
      ]
    },
    {
      "cell_type": "code",
      "execution_count": null,
      "metadata": {
        "id": "QxW6k72bqJgL"
      },
      "outputs": [],
      "source": [
        "# You work here\n",
        "def f():\n",
        "    pass"
      ]
    },
    {
      "cell_type": "markdown",
      "metadata": {
        "id": "gvCoFJrXqJgL"
      },
      "source": [
        "2. Write a function that computes the volume of a sphere given its radius."
      ]
    },
    {
      "cell_type": "code",
      "execution_count": null,
      "metadata": {
        "id": "B8FiNjdgqJgL"
      },
      "outputs": [],
      "source": [
        "# You work here\n",
        "def f(r):\n",
        "    pass"
      ]
    },
    {
      "cell_type": "markdown",
      "metadata": {
        "id": "KrL4ACysqJgL"
      },
      "source": [
        "3. Write a function that checks whether a number is in a given range (Inclusive of high and low)"
      ]
    },
    {
      "cell_type": "code",
      "execution_count": null,
      "metadata": {
        "id": "W3JmUJY2qJgL"
      },
      "outputs": [],
      "source": [
        "def is_in_range(target, low, high):\n",
        "    pass"
      ]
    },
    {
      "cell_type": "markdown",
      "metadata": {
        "id": "fCKlwSKIqJgM"
      },
      "source": [
        "4. Write a Python function that accepts a string and calculate the number of upper case letters and lower case letters."
      ]
    },
    {
      "cell_type": "code",
      "execution_count": null,
      "metadata": {
        "id": "mK7QNkEGqJgM"
      },
      "outputs": [],
      "source": [
        "# Your work here\n",
        "def f(s):\n",
        "    pass"
      ]
    },
    {
      "cell_type": "markdown",
      "metadata": {
        "id": "KImDTSq3qJgM"
      },
      "source": [
        "5. Write a Python function that takes a list and returns a new list with unique elements of the first list. Please use list comprehension as well"
      ]
    },
    {
      "cell_type": "code",
      "execution_count": null,
      "metadata": {
        "id": "lDf-ZZ3_qJgM"
      },
      "outputs": [],
      "source": [
        "# Your work here\n",
        "def f(l):\n",
        "    pass"
      ]
    },
    {
      "cell_type": "markdown",
      "metadata": {
        "id": "CyfEbjvzqJgM"
      },
      "source": [
        "6. Write a Python function to check whether a string is pangram or not.\n",
        "\n",
        "Note : Pangrams are words or sentences containing every letter of the alphabet at least once.\n",
        "For example : \"The quick brown fox jumps over the lazy dog\"\n"
      ]
    },
    {
      "cell_type": "code",
      "execution_count": null,
      "metadata": {
        "id": "S-fEI3nKqJgM"
      },
      "outputs": [],
      "source": [
        "# Your work here\n",
        "def f(s):\n",
        "    pass"
      ]
    },
    {
      "cell_type": "markdown",
      "metadata": {
        "id": "KH5tNVpdqJgM"
      },
      "source": [
        "7. Write a Python function to calculate the fibonacci number of index i (starts with 1). The function accepts the number as an argument and return a single number.\n",
        "The fibonacci sequence starts with 1,1,2,3,5,8,13,21,.... Therefore, fibonacci of index 6 is number 8."
      ]
    },
    {
      "cell_type": "code",
      "execution_count": null,
      "metadata": {
        "id": "1TCzlandqJgM"
      },
      "outputs": [],
      "source": [
        "# Your work here\n",
        "def f(x):\n",
        "    pass"
      ]
    },
    {
      "cell_type": "markdown",
      "metadata": {
        "id": "TbliM0mzqJgM"
      },
      "source": [
        "8. Create a function which finds the length of each word in the phrase (broken by spaces) and return the values in a list. The function will have an input of a string, and output a list of integers."
      ]
    },
    {
      "cell_type": "code",
      "execution_count": null,
      "metadata": {
        "id": "y2IyioszqJgM"
      },
      "outputs": [],
      "source": [
        "# Your work here\n",
        "def f(x):\n",
        "    pass"
      ]
    },
    {
      "cell_type": "markdown",
      "metadata": {
        "id": "wJmrM2MZqJgM"
      },
      "source": [
        "9. Write a function that accepts a list of tuples containing the name of the student and their score, sort them by the score from h."
      ]
    },
    {
      "cell_type": "code",
      "execution_count": null,
      "metadata": {
        "id": "VjABiZGUqJgM"
      },
      "outputs": [],
      "source": [
        "# Your work here\n",
        "def f(l):\n",
        "    pass"
      ]
    },
    {
      "cell_type": "markdown",
      "metadata": {
        "id": "xCdteuFKqJgM"
      },
      "source": [
        "10. Write a python function that accepts a list of tuples of length 2, where each tuple contains student name and their scores respectively. The function should return the name of the student whose got maximum score. Please use `map()`, and `max()` function is strictly prohibited."
      ]
    },
    {
      "cell_type": "code",
      "execution_count": null,
      "metadata": {
        "id": "KZLvXc1oqJgM"
      },
      "outputs": [],
      "source": [
        "# Your work here\n",
        "def f(l):\n",
        "    pass"
      ]
    },
    {
      "cell_type": "markdown",
      "metadata": {
        "id": "JY_98NybqJgM"
      },
      "source": [
        "HAPPY CODING :)"
      ]
    }
  ],
  "metadata": {
    "colab": {
      "provenance": [],
      "include_colab_link": true
    },
    "kernelspec": {
      "display_name": "Python 3",
      "name": "python3"
    },
    "language_info": {
      "name": "python"
    }
  },
  "nbformat": 4,
  "nbformat_minor": 0
}