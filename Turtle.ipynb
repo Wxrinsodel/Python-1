{
  "nbformat": 4,
  "nbformat_minor": 0,
  "metadata": {
    "colab": {
      "provenance": [],
      "authorship_tag": "ABX9TyPr2LZ+rXViwrsY+3VQmKiI",
      "include_colab_link": true
    },
    "kernelspec": {
      "name": "python3",
      "display_name": "Python 3"
    },
    "language_info": {
      "name": "python"
    }
  },
  "cells": [
    {
      "cell_type": "markdown",
      "metadata": {
        "id": "view-in-github",
        "colab_type": "text"
      },
      "source": [
        "<a href=\"https://colab.research.google.com/github/Wxrinsodel/Python-1/blob/main/Turtle.ipynb\" target=\"_parent\"><img src=\"https://colab.research.google.com/assets/colab-badge.svg\" alt=\"Open In Colab\"/></a>"
      ]
    },
    {
      "cell_type": "code",
      "execution_count": 3,
      "metadata": {
        "colab": {
          "base_uri": "https://localhost:8080/"
        },
        "collapsed": true,
        "id": "7XGEC6B0Phip",
        "outputId": "e9ccf339-9799-4adf-f753-270de81010a8"
      },
      "outputs": [
        {
          "output_type": "stream",
          "name": "stdout",
          "text": [
            "Collecting ColabTurtle\n",
            "  Downloading ColabTurtle-2.1.0.tar.gz (6.8 kB)\n",
            "  Preparing metadata (setup.py) ... \u001b[?25l\u001b[?25hdone\n",
            "Building wheels for collected packages: ColabTurtle\n",
            "  Building wheel for ColabTurtle (setup.py) ... \u001b[?25l\u001b[?25hdone\n",
            "  Created wheel for ColabTurtle: filename=ColabTurtle-2.1.0-py3-none-any.whl size=7642 sha256=e3eeeddaa1f330ec5ffa89ab476011488325c43610f714c3c4f8767e64cf94f9\n",
            "  Stored in directory: /root/.cache/pip/wheels/5b/86/e8/54f5c8c853606e3a3060bb2e60363cbed632374a12e0f33ffc\n",
            "Successfully built ColabTurtle\n",
            "Installing collected packages: ColabTurtle\n",
            "Successfully installed ColabTurtle-2.1.0\n"
          ]
        }
      ],
      "source": [
        "!pip3 install ColabTurtle"
      ]
    },
    {
      "cell_type": "code",
      "source": [
        "!pip install ColabTurtlePlus"
      ],
      "metadata": {
        "colab": {
          "base_uri": "https://localhost:8080/"
        },
        "collapsed": true,
        "id": "VsXGEspJEvWd",
        "outputId": "283bdbbd-484d-403d-eed0-5386921c12c1"
      },
      "execution_count": 16,
      "outputs": [
        {
          "output_type": "stream",
          "name": "stdout",
          "text": [
            "Collecting ColabTurtlePlus\n",
            "  Downloading ColabTurtlePlus-2.0.1-py3-none-any.whl.metadata (10 kB)\n",
            "Downloading ColabTurtlePlus-2.0.1-py3-none-any.whl (31 kB)\n",
            "Installing collected packages: ColabTurtlePlus\n",
            "Successfully installed ColabTurtlePlus-2.0.1\n"
          ]
        }
      ]
    },
    {
      "cell_type": "code",
      "source": [],
      "metadata": {
        "id": "XYjgniL1E9uh"
      },
      "execution_count": null,
      "outputs": []
    },
    {
      "cell_type": "code",
      "source": [
        "\n",
        "import ColabTurtle.Turtle as turtle\n",
        "import ColabTurtlePlus.Turtle as draw\n",
        "\n",
        "turtle.initializeTurtle(5)\n",
        "\n",
        "turtle.bgcolor(\"pink\")\n",
        "turtle.color(\"white\")\n",
        "turtle.penup()\n",
        "turtle.right(140) # begin point\n",
        "turtle.forward(200)\n",
        "\n",
        "# first line in R side\n",
        "turtle.pendown()\n",
        "turtle.left(90)\n",
        "turtle.forward(200)\n",
        "\n",
        "# second line\n",
        "turtle.left(90)\n",
        "turtle.forward(200)\n",
        "\n",
        "# third line > half one\n",
        "turtle.left(90)\n",
        "turtle.forward(200)\n",
        "\n",
        "\n",
        "# first line in L side\n",
        "\n",
        "turtle.right(90)\n",
        "turtle.forward(200)\n",
        "\n",
        "# second line\n",
        "turtle.left(90)\n",
        "turtle.forward(200)\n",
        "\n",
        "# third line\n",
        "turtle.left(90)\n",
        "turtle.forward(200)\n",
        "\n",
        "# forth line (break point)\n",
        "turtle.left(93)\n",
        "turtle.forward(200)\n",
        "\n",
        "# fifth line that cracking\n",
        "turtle.bgcolor(\"gray\")\n",
        "turtle.right(90)\n",
        "turtle.forward(200)\n",
        "\n",
        "# first line of confussing\n",
        "turtle.right(140)\n",
        "turtle.forward(220)\n",
        "\n",
        "# second line\n",
        "turtle.right(90)\n",
        "turtle.forward(200)\n",
        "\n",
        "# third line\n",
        "turtle.right(90)\n",
        "turtle.forward(200)\n",
        "\n",
        "# forth line\n",
        "turtle.right(90)\n",
        "turtle.forward(200)\n",
        "\n",
        "# first line of trying\n",
        "turtle.bgcolor(\"darkblue\")\n",
        "turtle.left(90)\n",
        "turtle.forward(200)\n",
        "\n",
        "# second line\n",
        "turtle.left(90)\n",
        "turtle.forward(200)\n",
        "\n",
        "# third line\n",
        "turtle.left(90)\n",
        "turtle.forward(200)\n",
        "\n",
        "# first line of endeaver\n",
        "turtle.bgcolor(\"black\")\n",
        "turtle.left(360)\n",
        "turtle.forward(400)\n",
        "\n",
        "# second line\n",
        "turtle.left(90)\n",
        "turtle.forward(200)\n",
        "\n",
        "# third line\n",
        "turtle.left(90)\n",
        "turtle.forward(200)\n",
        "\n",
        "turtle.bgcolor(\"white\")\n",
        "turtle.forward(800)\n",
        "turtle.clear()\n",
        "\n",
        "\n",
        "\"\"\"\n",
        "In this concept, a turtle embarks on a journey to create a heart but\n",
        "becomes lost along the way. Unable to achieve its goal,\n",
        "the turtle tries to find its way back to the starting point but fails.\n",
        "Eventually, it resigns to its fate and fades away within the incomplete heart.\n",
        "\"\"\"\n",
        "\n",
        "\n",
        "\n",
        "\n",
        "\n",
        "\n",
        "\n",
        "\n",
        "\n",
        "\n",
        "\n",
        "\n"
      ],
      "metadata": {
        "colab": {
          "base_uri": "https://localhost:8080/",
          "height": 575
        },
        "id": "F9gaF-1RPqct",
        "outputId": "c698f768-dc49-4995-f240-f8207a11ce58"
      },
      "execution_count": 196,
      "outputs": [
        {
          "output_type": "display_data",
          "data": {
            "text/plain": [
              "<IPython.core.display.HTML object>"
            ],
            "text/html": [
              "\n",
              "      <svg width=\"800\" height=\"500\">\n",
              "        <rect width=\"100%\" height=\"100%\" fill=\"white\"/>\n",
              "        \n",
              "        <g visibility=visible transform=\"rotate(97,1105.139,459.113) translate(1087.139, 441.113)\">\n",
              "<path style=\" stroke:none;fill-rule:evenodd;fill:white;fill-opacity:1;\" d=\"M 18.214844 0.632812 C 16.109375 1.800781 15.011719 4.074219 15.074219 7.132812 L 15.085938 7.652344 L 14.785156 7.496094 C 13.476562 6.824219 11.957031 6.671875 10.40625 7.066406 C 8.46875 7.550781 6.515625 9.15625 4.394531 11.992188 C 3.0625 13.777344 2.679688 14.636719 3.042969 15.027344 L 3.15625 15.152344 L 3.519531 15.152344 C 4.238281 15.152344 4.828125 14.886719 8.1875 13.039062 C 9.386719 12.378906 10.371094 11.839844 10.378906 11.839844 C 10.386719 11.839844 10.355469 11.929688 10.304688 12.035156 C 9.832031 13.09375 9.257812 14.820312 8.96875 16.078125 C 7.914062 20.652344 8.617188 24.53125 11.070312 27.660156 C 11.351562 28.015625 11.363281 27.914062 10.972656 28.382812 C 8.925781 30.84375 7.945312 33.28125 8.238281 35.1875 C 8.289062 35.527344 8.28125 35.523438 8.917969 35.523438 C 10.941406 35.523438 13.074219 34.207031 15.136719 31.6875 C 15.359375 31.417969 15.328125 31.425781 15.5625 31.574219 C 16.292969 32.042969 18.023438 32.964844 18.175781 32.964844 C 18.335938 32.964844 19.941406 32.210938 20.828125 31.71875 C 20.996094 31.625 21.136719 31.554688 21.136719 31.558594 C 21.203125 31.664062 21.898438 32.414062 22.222656 32.730469 C 23.835938 34.300781 25.5625 35.132812 27.582031 35.300781 C 27.90625 35.328125 27.9375 35.308594 28.007812 34.984375 C 28.382812 33.242188 27.625 30.925781 25.863281 28.425781 L 25.542969 27.96875 L 25.699219 27.785156 C 28.945312 23.960938 29.132812 18.699219 26.257812 11.96875 L 26.207031 11.84375 L 27.945312 12.703125 C 31.53125 14.476562 32.316406 14.800781 33.03125 14.800781 C 33.976562 14.800781 33.78125 13.9375 32.472656 12.292969 C 28.519531 7.355469 25.394531 5.925781 21.921875 7.472656 L 21.558594 7.636719 L 21.578125 7.542969 C 21.699219 6.992188 21.761719 5.742188 21.699219 5.164062 C 21.496094 3.296875 20.664062 1.964844 19.003906 0.855469 C 18.480469 0.503906 18.457031 0.5 18.214844 0.632812\"/>\n",
              "</g>\n",
              "      </svg>\n",
              "    "
            ]
          },
          "metadata": {}
        },
        {
          "output_type": "execute_result",
          "data": {
            "text/plain": [
              "'\\nIn this concept, a turtle embarks on a journey to create a heart but \\nbecomes lost along the way. Unable to achieve its goal, \\nthe turtle tries to find its way back to the starting point but fails. \\nEventually, it resigns to its fate and fades away within the incomplete heart.\\n'"
            ],
            "application/vnd.google.colaboratory.intrinsic+json": {
              "type": "string"
            }
          },
          "metadata": {},
          "execution_count": 196
        }
      ]
    }
  ]
}